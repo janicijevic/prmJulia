{
 "cells": [
  {
   "attachments": {},
   "cell_type": "markdown",
   "metadata": {},
   "source": [
    "# Julia\n",
    "# Zadatak - Kockice\n",
    "### Odrediti koji je broj na kockici sa slike\n",
    "---"
   ]
  },
  {
   "attachments": {},
   "cell_type": "markdown",
   "metadata": {},
   "source": [
    "# Slike kockica\n",
    "\n",
    "### U ovom primeru će se koristiti samo date slike radi demonstracije. Unapređenje programa bi bilo da se napravi da program radi za drugačije slike kockice, uključujući slike gde kockice nisu skroz paralelne kameri već se vide i tačke sa ostalih strana kockice."
   ]
  },
  {
   "cell_type": "code",
   "execution_count": 1,
   "metadata": {},
   "outputs": [
    {
     "data": {
      "text/html": [
       "<table><tbody><tr><td style='text-align:center;vertical-align:middle; margin: 0.5em;border:1px #90999f solid;border-collapse:collapse'><img style='max-width: 100px; max-height:100px;display:inline' src=\"data:image/png;base64,iVBORw0KGgoAAAANSUhEUgAAAGcAAABoCAAAAADJfLHwAAAABGdBTUEAALGPC/xhBQAAAAFzUkdCAK7OHOkAAAAgY0hSTQAAeiYAAICEAAD6AAAAgOgAAHUwAADqYAAAOpgAABdwnLpRPAAABK5JREFUaAW9wTGPXGcZhuH7ec87u14H7OCEKJUJSEh0SERKRUGBItFRI0XkP1GlTDr4BVEqEA1SKgQSEhLCHaKIrGDv2pk5530ya+zd/Wb2y84M7Lmu/PDXzODjfOdnzOAPyTySeSTzSOaRzCOZRzKPZB7JPJJ5JPNI5pHMI5lHMo9kHsk8knkkuzA7E9dKdiEwNxAYsLhOMo9kBzYYMGAuiZcECERX0mNUTNNYYEu2JNbMBYmXhGRLgCIUYkPSYfDydKlAawiZyYC4JEAvAIFZm5YTJ8eilXQIn/2HcAWSMQYXVHFBAhQhDRlACCxFnY6viUbSYcan5SkDCuwqGwMGsWaQoFiLiCEXKUMQnrzMY3FV0vXs+eBwIewqC0uAAIPEC8G5qnEZcXQnw4Cynh+Jq5Ier1ycK58DxCtii6ialid3w1aUbBpJT62wClEuIXbg8el4946KiDKNpKdG1lwGQUncSNSz0ceIsGkkPa4asDEvmDXRZcDA8ssHWZiikfRU0TCIG5k6vScJ00h6qmQOcXp8HDHRSjpUNWAQezKnGcI0kh5LKol9Oaav7iJbXJH0GMwh7LEQGHEh6SkwB6nVKtiQ9NhYHMCM0yBaSY8pBQepVWKHLV5J+iwONFmmkdyGqsE0kttQNYhG0iWLSxK78zRgi0vJrbBFI7kNLgeN5Da42JB02IiXJDbFpJJqKHEd22BxIekxXQ4jAqmGSWwTILB4JTmA4t+f/+WrH773PcVqUewiOcSfPvrnvfjj7371S0Wxk6TLoWBbhf7+m+c/Em9/+ds3f6qBaxiLRtJjENusqk+Xb6vQgy8++/E9rmU2JHsK6/GjB7kyI/cf/+t1dpPsqRSrzMfPvGJafPdUFrtI9iRqsXh+dHbmaVysvlXBNSRMI9mTh/rOwz+/UUfTalVvvTmUuJZpJHuSiZ//9cm3deYn93/xxjiwk2R/9f0PP/lHPD19+MF7YkfJvkzoJz/4/G/jO+8+FC3xktiQHKD8+vvv4wLEFeIViVZyAAlTCjqERCs5gEOFbILrCYlG0qMQmwQGRAmCLkuyEBeSHrFFgAxCILocEiAuJfsSN1OwIdmXwNwkZBpJjwBhRMv0if8KHBJXJD2yjNiH6Eo6JGxLZn8SppX0eS0w+xM2jaRnwDXIomXWRJewhjBBI+kJTIVMSwbxDYQkkLgq6bOnCMSeFGJL0memZH+S2JL0BCpWEYDMJbFNvCDWBMYlcVXSEzHiaQqxOwGWMZuSHgnDSgvZ7M4YLIlG0hNhY6M0+7DMtqRHixxtxjo6ksWaTIcRAmHKCoGDRtITR2eyrVqRAwhMjyQMNjYYCNFIeuLkzFbBOGUOaYPoEAi7DIg1LUQj6anjk8mArdUUQ0QMdAhP2GWtsSalaCRd8dpoZBvKhUIRIgSICzbY2AZhhxBxZ6CV9Eh3htMnyyphwFWEhASICwbEOclWQAzHJwvRSnpkFvfvjqtxqslQhQFzzlwQEAOgtVjLRUawKemwsHR8BBhjjMEgsLkkIAAJAWLNiFbSISSMsMT/LvkmAsT/QzKPZB7JPJJ5JPNI5pHMI5lHMo9kHsk8knkk88hHv2cGj74GQi7/rRAHjNkAAAAASUVORK5C\"></td><td style='text-align:center;vertical-align:middle; margin: 0.5em;border:1px #90999f solid;border-collapse:collapse'><img style='max-width: 100px; max-height:100px;display:inline' src=\"data:image/png;base64,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\"></td><td style='text-align:center;vertical-align:middle; margin: 0.5em;border:1px #90999f solid;border-collapse:collapse'><img style='max-width: 100px; max-height:100px;display:inline' src=\"data:image/png;base64,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\"></td><td style='text-align:center;vertical-align:middle; margin: 0.5em;border:1px #90999f solid;border-collapse:collapse'><img style='max-width: 100px; max-height:100px;display:inline' src=\"data:image/png;base64,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\"></td><td style='text-align:center;vertical-align:middle; margin: 0.5em;border:1px #90999f solid;border-collapse:collapse'><img style='max-width: 100px; max-height:100px;display:inline' src=\"data:image/png;base64,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\"></td><td style='text-align:center;vertical-align:middle; margin: 0.5em;border:1px #90999f solid;border-collapse:collapse'><img style='max-width: 100px; max-height:100px;display:inline' src=\"data:image/png;base64,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\"></td></tr></tbody></table><div><small>(a vector displayed as a row to save space)</small></div>"
      ],
      "text/plain": [
       "6-element Vector{Matrix{Gray{N0f8}}}:\n",
       " [Gray{N0f8}(1.0) Gray{N0f8}(1.0) … Gray{N0f8}(1.0) Gray{N0f8}(1.0); Gray{N0f8}(1.0) Gray{N0f8}(1.0) … Gray{N0f8}(1.0) Gray{N0f8}(1.0); … ; Gray{N0f8}(1.0) Gray{N0f8}(1.0) … Gray{N0f8}(1.0) Gray{N0f8}(1.0); Gray{N0f8}(1.0) Gray{N0f8}(1.0) … Gray{N0f8}(1.0) Gray{N0f8}(1.0)]\n",
       " [Gray{N0f8}(1.0) Gray{N0f8}(1.0) … Gray{N0f8}(1.0) Gray{N0f8}(1.0); Gray{N0f8}(1.0) Gray{N0f8}(1.0) … Gray{N0f8}(1.0) Gray{N0f8}(1.0); … ; Gray{N0f8}(1.0) Gray{N0f8}(1.0) … Gray{N0f8}(1.0) Gray{N0f8}(1.0); Gray{N0f8}(1.0) Gray{N0f8}(1.0) … Gray{N0f8}(1.0) Gray{N0f8}(1.0)]\n",
       " [Gray{N0f8}(1.0) Gray{N0f8}(1.0) … Gray{N0f8}(1.0) Gray{N0f8}(1.0); Gray{N0f8}(1.0) Gray{N0f8}(1.0) … Gray{N0f8}(1.0) Gray{N0f8}(1.0); … ; Gray{N0f8}(1.0) Gray{N0f8}(1.0) … Gray{N0f8}(1.0) Gray{N0f8}(1.0); Gray{N0f8}(1.0) Gray{N0f8}(1.0) … Gray{N0f8}(1.0) Gray{N0f8}(1.0)]\n",
       " [Gray{N0f8}(1.0) Gray{N0f8}(1.0) … Gray{N0f8}(1.0) Gray{N0f8}(1.0); Gray{N0f8}(1.0) Gray{N0f8}(1.0) … Gray{N0f8}(1.0) Gray{N0f8}(1.0); … ; Gray{N0f8}(1.0) Gray{N0f8}(1.0) … Gray{N0f8}(1.0) Gray{N0f8}(1.0); Gray{N0f8}(1.0) Gray{N0f8}(1.0) … Gray{N0f8}(1.0) Gray{N0f8}(1.0)]\n",
       " [Gray{N0f8}(1.0) Gray{N0f8}(1.0) … Gray{N0f8}(1.0) Gray{N0f8}(1.0); Gray{N0f8}(1.0) Gray{N0f8}(1.0) … Gray{N0f8}(1.0) Gray{N0f8}(1.0); … ; Gray{N0f8}(1.0) Gray{N0f8}(1.0) … Gray{N0f8}(1.0) Gray{N0f8}(1.0); Gray{N0f8}(1.0) Gray{N0f8}(1.0) … Gray{N0f8}(1.0) Gray{N0f8}(1.0)]\n",
       " [Gray{N0f8}(1.0) Gray{N0f8}(1.0) … Gray{N0f8}(1.0) Gray{N0f8}(1.0); Gray{N0f8}(1.0) Gray{N0f8}(1.0) … Gray{N0f8}(1.0) Gray{N0f8}(1.0); … ; Gray{N0f8}(1.0) Gray{N0f8}(1.0) … Gray{N0f8}(1.0) Gray{N0f8}(1.0); Gray{N0f8}(1.0) Gray{N0f8}(1.0) … Gray{N0f8}(1.0) Gray{N0f8}(1.0)]"
      ]
     },
     "metadata": {},
     "output_type": "display_data"
    }
   ],
   "source": [
    "# Ucitavanje slike svih kockica i podela na pojedinacne kockice, kao i pretvaranje u grayscale\n",
    "using Images\n",
    "diceIm = load(\"kockice.jpg\")\n",
    "(h, w) = size(diceIm)\n",
    "dice = []\n",
    "\n",
    "for j in 0:1\n",
    "    for i in 0:2\n",
    "        push!(dice, Gray.(diceIm[j*h÷2+1:(j+1)*h÷2,i*w÷3+1:(i+1)*w÷3]))\n",
    "        # za celobrojno deljenje se koristi ÷ (\\div <enter>) \n",
    "    end\n",
    "end\n",
    "hcat.(dice)"
   ]
  },
  {
   "attachments": {},
   "cell_type": "markdown",
   "metadata": {},
   "source": [
    "# Slike u Juliji\n",
    "\n",
    "Slike u Juliji, kao i u drugim jezicima, se predstavljaju matricom brojeva (odnosno objekata RGB boje, kod slika u boji).\n",
    "\n",
    "Kod grayscale slika matrice sadrže brojeve između 0 i 1 gde je 0 crna boja, 1 bela i sve između su nijanse sive.\n",
    "\n",
    "### Slike se mogu adresirati kao matrice: \n",
    "_slika[i, j]_ - daje vrednost _i_ od gornje ivice i _j_ od leve ivice.  \n",
    "\n",
    "### Može se iseći deo slike korišćenjem opsega(range):"
   ]
  },
  {
   "cell_type": "code",
   "execution_count": 2,
   "metadata": {},
   "outputs": [
    {
     "data": {
      "image/png": "[encoded data removed]",
      "text/plain": [
       "101×100 Array{Gray{N0f8},2} with eltype Gray{N0f8}:\n",
       " Gray{N0f8}(1.0)  Gray{N0f8}(1.0)  Gray{N0f8}(1.0)  …  Gray{N0f8}(0.886)\n",
       " Gray{N0f8}(1.0)  Gray{N0f8}(1.0)  Gray{N0f8}(1.0)     Gray{N0f8}(0.886)\n",
       " Gray{N0f8}(1.0)  Gray{N0f8}(1.0)  Gray{N0f8}(1.0)     Gray{N0f8}(0.886)\n",
       " Gray{N0f8}(1.0)  Gray{N0f8}(1.0)  Gray{N0f8}(1.0)     Gray{N0f8}(0.886)\n",
       " Gray{N0f8}(1.0)  Gray{N0f8}(1.0)  Gray{N0f8}(1.0)     Gray{N0f8}(0.886)\n",
       " Gray{N0f8}(1.0)  Gray{N0f8}(1.0)  Gray{N0f8}(1.0)  …  Gray{N0f8}(0.886)\n",
       " Gray{N0f8}(1.0)  Gray{N0f8}(1.0)  Gray{N0f8}(1.0)     Gray{N0f8}(0.886)\n",
       " Gray{N0f8}(1.0)  Gray{N0f8}(1.0)  Gray{N0f8}(1.0)     Gray{N0f8}(0.886)\n",
       " Gray{N0f8}(1.0)  Gray{N0f8}(1.0)  Gray{N0f8}(1.0)     Gray{N0f8}(0.886)\n",
       " Gray{N0f8}(1.0)  Gray{N0f8}(1.0)  Gray{N0f8}(1.0)     Gray{N0f8}(0.886)\n",
       " ⋮                                                  ⋱  \n",
       " Gray{N0f8}(1.0)  Gray{N0f8}(1.0)  Gray{N0f8}(1.0)     Gray{N0f8}(1.0)\n",
       " Gray{N0f8}(1.0)  Gray{N0f8}(1.0)  Gray{N0f8}(1.0)     Gray{N0f8}(1.0)\n",
       " Gray{N0f8}(1.0)  Gray{N0f8}(1.0)  Gray{N0f8}(1.0)     Gray{N0f8}(1.0)\n",
       " Gray{N0f8}(1.0)  Gray{N0f8}(1.0)  Gray{N0f8}(1.0)  …  Gray{N0f8}(1.0)\n",
       " Gray{N0f8}(1.0)  Gray{N0f8}(1.0)  Gray{N0f8}(1.0)     Gray{N0f8}(1.0)\n",
       " Gray{N0f8}(1.0)  Gray{N0f8}(1.0)  Gray{N0f8}(1.0)     Gray{N0f8}(1.0)\n",
       " Gray{N0f8}(1.0)  Gray{N0f8}(1.0)  Gray{N0f8}(1.0)     Gray{N0f8}(1.0)\n",
       " Gray{N0f8}(1.0)  Gray{N0f8}(1.0)  Gray{N0f8}(1.0)     Gray{N0f8}(1.0)\n",
       " Gray{N0f8}(1.0)  Gray{N0f8}(1.0)  Gray{N0f8}(1.0)  …  Gray{N0f8}(1.0)"
      ]
     },
     "metadata": {},
     "output_type": "display_data"
    }
   ],
   "source": [
    "dice[6][100:200, 1:100]"
   ]
  },
  {
   "attachments": {},
   "cell_type": "markdown",
   "metadata": {},
   "source": [
    "# Resenje 1\n",
    "\n",
    "## Binarizacija\n",
    "\n",
    "### Binarizacija ili Thresholding je proces pri kom se grayscale slika pretvara u binarnu (crno belu) sliku gde su svi pikseli ili 0 ili 1. \n",
    "### Koji piksel postaje 0 a koji 1 se određuje na osnovu _threshold_ (granica). Svi pikseli veći od _threshold_ postaju 1, a svi manji postaju 0.\n",
    "\n"
   ]
  },
  {
   "cell_type": "code",
   "execution_count": 3,
   "metadata": {},
   "outputs": [],
   "source": [
    "function binarize(im, thresh)\n",
    "    im[im.>thresh] .= 1\n",
    "    im[im.<=thresh] .= 0\n",
    "    return im\n",
    "end;"
   ]
  },
  {
   "cell_type": "code",
   "execution_count": 4,
   "metadata": {},
   "outputs": [
    {
     "data": {
      "image/png": "[encoded data removed]",
      "text/plain": [
       "207×2244 Array{Gray{N0f8},2} with eltype Gray{N0f8}:\n",
       " Gray{N0f8}(1.0)  Gray{N0f8}(1.0)  …  Gray{N0f8}(0.0)  Gray{N0f8}(0.0)\n",
       " Gray{N0f8}(1.0)  Gray{N0f8}(1.0)     Gray{N0f8}(0.0)  Gray{N0f8}(0.0)\n",
       " Gray{N0f8}(1.0)  Gray{N0f8}(1.0)     Gray{N0f8}(0.0)  Gray{N0f8}(0.0)\n",
       " Gray{N0f8}(1.0)  Gray{N0f8}(1.0)     Gray{N0f8}(0.0)  Gray{N0f8}(0.0)\n",
       " Gray{N0f8}(1.0)  Gray{N0f8}(1.0)     Gray{N0f8}(0.0)  Gray{N0f8}(0.0)\n",
       " Gray{N0f8}(1.0)  Gray{N0f8}(1.0)  …  Gray{N0f8}(0.0)  Gray{N0f8}(0.0)\n",
       " Gray{N0f8}(1.0)  Gray{N0f8}(1.0)     Gray{N0f8}(0.0)  Gray{N0f8}(0.0)\n",
       " Gray{N0f8}(1.0)  Gray{N0f8}(1.0)     Gray{N0f8}(0.0)  Gray{N0f8}(0.0)\n",
       " Gray{N0f8}(1.0)  Gray{N0f8}(1.0)     Gray{N0f8}(0.0)  Gray{N0f8}(0.0)\n",
       " Gray{N0f8}(1.0)  Gray{N0f8}(1.0)     Gray{N0f8}(0.0)  Gray{N0f8}(0.0)\n",
       " ⋮                                 ⋱                   \n",
       " Gray{N0f8}(1.0)  Gray{N0f8}(1.0)     Gray{N0f8}(0.0)  Gray{N0f8}(0.0)\n",
       " Gray{N0f8}(1.0)  Gray{N0f8}(1.0)     Gray{N0f8}(0.0)  Gray{N0f8}(0.0)\n",
       " Gray{N0f8}(1.0)  Gray{N0f8}(1.0)  …  Gray{N0f8}(0.0)  Gray{N0f8}(0.0)\n",
       " Gray{N0f8}(1.0)  Gray{N0f8}(1.0)     Gray{N0f8}(0.0)  Gray{N0f8}(0.0)\n",
       " Gray{N0f8}(1.0)  Gray{N0f8}(1.0)     Gray{N0f8}(0.0)  Gray{N0f8}(0.0)\n",
       " Gray{N0f8}(1.0)  Gray{N0f8}(1.0)     Gray{N0f8}(0.0)  Gray{N0f8}(0.0)\n",
       " Gray{N0f8}(1.0)  Gray{N0f8}(1.0)     Gray{N0f8}(0.0)  Gray{N0f8}(0.0)\n",
       " Gray{N0f8}(1.0)  Gray{N0f8}(1.0)  …  Gray{N0f8}(0.0)  Gray{N0f8}(0.0)\n",
       " Gray{N0f8}(1.0)  Gray{N0f8}(1.0)     Gray{N0f8}(0.0)  Gray{N0f8}(0.0)"
      ]
     },
     "metadata": {},
     "output_type": "display_data"
    }
   ],
   "source": [
    "# Prikaz uticaja vrednosti threshold na rezultat binarizacije\n",
    "thresholds = collect(0:0.1:1)\n",
    "bins = []\n",
    "\n",
    "for thr in thresholds\n",
    "    push!(bins, binarize(copy(dice[6]), thr))\n",
    "end\n",
    "\n",
    "reduce(hcat, bins)"
   ]
  },
  {
   "attachments": {},
   "cell_type": "markdown",
   "metadata": {},
   "source": [
    "#### U krajnjem rešenju bi trebalo da se uspostavi dinamički threshold nekom heuristkom, ali će se u ovom primeru izabrati threshold koji odgovara izabranim slikama"
   ]
  },
  {
   "cell_type": "code",
   "execution_count": 5,
   "metadata": {},
   "outputs": [
    {
     "data": {
      "image/png": "[encoded data removed]",
      "text/plain": [
       "207×204 Array{Gray{N0f8},2} with eltype Gray{N0f8}:\n",
       " Gray{N0f8}(1.0)  Gray{N0f8}(1.0)  …  Gray{N0f8}(1.0)  Gray{N0f8}(1.0)\n",
       " Gray{N0f8}(1.0)  Gray{N0f8}(1.0)     Gray{N0f8}(1.0)  Gray{N0f8}(1.0)\n",
       " Gray{N0f8}(1.0)  Gray{N0f8}(1.0)     Gray{N0f8}(1.0)  Gray{N0f8}(1.0)\n",
       " Gray{N0f8}(1.0)  Gray{N0f8}(1.0)     Gray{N0f8}(1.0)  Gray{N0f8}(1.0)\n",
       " Gray{N0f8}(1.0)  Gray{N0f8}(1.0)     Gray{N0f8}(1.0)  Gray{N0f8}(1.0)\n",
       " Gray{N0f8}(1.0)  Gray{N0f8}(1.0)  …  Gray{N0f8}(1.0)  Gray{N0f8}(1.0)\n",
       " Gray{N0f8}(1.0)  Gray{N0f8}(1.0)     Gray{N0f8}(1.0)  Gray{N0f8}(1.0)\n",
       " Gray{N0f8}(1.0)  Gray{N0f8}(1.0)     Gray{N0f8}(1.0)  Gray{N0f8}(1.0)\n",
       " Gray{N0f8}(1.0)  Gray{N0f8}(1.0)     Gray{N0f8}(1.0)  Gray{N0f8}(1.0)\n",
       " Gray{N0f8}(1.0)  Gray{N0f8}(1.0)     Gray{N0f8}(1.0)  Gray{N0f8}(1.0)\n",
       " ⋮                                 ⋱                   \n",
       " Gray{N0f8}(1.0)  Gray{N0f8}(1.0)     Gray{N0f8}(1.0)  Gray{N0f8}(1.0)\n",
       " Gray{N0f8}(1.0)  Gray{N0f8}(1.0)     Gray{N0f8}(1.0)  Gray{N0f8}(1.0)\n",
       " Gray{N0f8}(1.0)  Gray{N0f8}(1.0)  …  Gray{N0f8}(1.0)  Gray{N0f8}(1.0)\n",
       " Gray{N0f8}(1.0)  Gray{N0f8}(1.0)     Gray{N0f8}(1.0)  Gray{N0f8}(1.0)\n",
       " Gray{N0f8}(1.0)  Gray{N0f8}(1.0)     Gray{N0f8}(1.0)  Gray{N0f8}(1.0)\n",
       " Gray{N0f8}(1.0)  Gray{N0f8}(1.0)     Gray{N0f8}(1.0)  Gray{N0f8}(1.0)\n",
       " Gray{N0f8}(1.0)  Gray{N0f8}(1.0)     Gray{N0f8}(1.0)  Gray{N0f8}(1.0)\n",
       " Gray{N0f8}(1.0)  Gray{N0f8}(1.0)  …  Gray{N0f8}(1.0)  Gray{N0f8}(1.0)\n",
       " Gray{N0f8}(1.0)  Gray{N0f8}(1.0)     Gray{N0f8}(1.0)  Gray{N0f8}(1.0)"
      ]
     },
     "metadata": {},
     "output_type": "display_data"
    }
   ],
   "source": [
    "THRESH = 0.5;\n",
    "NUM = 6\n",
    "\n",
    "bin = binarize(copy(dice[NUM]), THRESH)"
   ]
  },
  {
   "attachments": {},
   "cell_type": "markdown",
   "metadata": {},
   "source": [
    "## Detekcija krugova\n",
    "\n",
    "### Krugovi se detektuju brojanjem grupa povezanih crnih piksela\n",
    "\n",
    "U rešenju postoje:\n",
    "- _img_ - matrica brojeva 0 ili 1 veličine $h \\times w$ koja predstavlja binarizovanu sliku kockice\n",
    "- _visited_ - matrica bitova veličine $h \\times w$ čiji element $(i, j)$ označava da li je piksel $(i, j)$ na slici već posećen\n",
    "\n",
    "Kroz sliku se prolazi redom, piksel po piksel. Kada se naiđe na piksel $(i, j)$ koji je crn (vrednost 0), a nije već posećen (što prati matrica _visited_) povećava se brojač _count_ nakon čega se poziva funkcija _fillVisited_ koja prođe kroz sve susedne crne piksele rekurzivno i obeležava ih kao posećene u matrici _visited_ (flood fill algoritam).\n",
    "\n",
    "Na kraju se u promenljivoj _count_ nalazi broj grupa povezanih crnih piksela što predstavlja sam broj na koji je kockica pala."
   ]
  },
  {
   "cell_type": "code",
   "execution_count": 6,
   "metadata": {},
   "outputs": [],
   "source": [
    "\n",
    "# Rekurzivno popunjava bitove u visited matrici svih crnih piksela koji su susedi piksela (i, j) iz slike img\n",
    "function fillVisited(img, i, j, visited)\n",
    "    (h, w) = size(img)\n",
    "    visited[i, j] = 1       # Postavljanje visited bita za ovaj piksel\n",
    "    for y = -1:1            # Prolazak kroz sve susedne piksele\n",
    "        for x = -1:1\n",
    "            if((y == 0 && x == 0) || i+y < 1 || j+x < 1 || i+y>h || j+x > w)    # ako je van slike preskoci \n",
    "                continue\n",
    "            end\n",
    "            if(img[i+y,j+x] == 0 && !visited[i+y, j+x])     # Susedni crni piksel koji nije vec obradjen    \n",
    "                fillVisited(img, i+y, j+x, visited);        # Rekurzivni poziv za sused\n",
    "            end\n",
    "        end\n",
    "    end\n",
    "end;\n",
    "\n",
    "\n",
    "# Broji grupe povezanih crnih piksela (blobs) u binarnoj slici img\n",
    "function countBlobs(img)\n",
    "    (h, w) = size(img)\n",
    "    visited = BitArray(undef, h, w)     # Matrica posecenosti\n",
    "    visited .= 0                        # Inicijalizacija na nulu\n",
    "    count = 0                           # Brojac grupa (blob-ova)\n",
    "\n",
    "    for i = 1:h\n",
    "        for j = 1:w\n",
    "            if img[i,j] == 0 && !visited[i, j]              # Crni piksel koji nije vec obradjen\n",
    "                count+=1                                    \n",
    "                fillVisited(img, i, j, visited)       # Postavljanje visited bitova svih povezanih crnih piksela \n",
    "            end\n",
    "        end\n",
    "    end\n",
    "    return count\n",
    "end;\n"
   ]
  },
  {
   "cell_type": "code",
   "execution_count": 7,
   "metadata": {},
   "outputs": [
    {
     "name": "stdout",
     "output_type": "stream",
     "text": [
      "Izabrana kockica:    4\n",
      "Detektovana kockica: 4\n"
     ]
    },
    {
     "data": {
      "image/png": "[encoded data removed]",
      "text/plain": [
       "207×204 Array{Gray{N0f8},2} with eltype Gray{N0f8}:\n",
       " Gray{N0f8}(1.0)  Gray{N0f8}(1.0)  …  Gray{N0f8}(1.0)  Gray{N0f8}(1.0)\n",
       " Gray{N0f8}(1.0)  Gray{N0f8}(1.0)     Gray{N0f8}(1.0)  Gray{N0f8}(1.0)\n",
       " Gray{N0f8}(1.0)  Gray{N0f8}(1.0)     Gray{N0f8}(1.0)  Gray{N0f8}(1.0)\n",
       " Gray{N0f8}(1.0)  Gray{N0f8}(1.0)     Gray{N0f8}(1.0)  Gray{N0f8}(1.0)\n",
       " Gray{N0f8}(1.0)  Gray{N0f8}(1.0)     Gray{N0f8}(1.0)  Gray{N0f8}(1.0)\n",
       " Gray{N0f8}(1.0)  Gray{N0f8}(1.0)  …  Gray{N0f8}(1.0)  Gray{N0f8}(1.0)\n",
       " Gray{N0f8}(1.0)  Gray{N0f8}(1.0)     Gray{N0f8}(1.0)  Gray{N0f8}(1.0)\n",
       " Gray{N0f8}(1.0)  Gray{N0f8}(1.0)     Gray{N0f8}(1.0)  Gray{N0f8}(1.0)\n",
       " Gray{N0f8}(1.0)  Gray{N0f8}(1.0)     Gray{N0f8}(1.0)  Gray{N0f8}(1.0)\n",
       " Gray{N0f8}(1.0)  Gray{N0f8}(1.0)     Gray{N0f8}(1.0)  Gray{N0f8}(1.0)\n",
       " ⋮                                 ⋱                   \n",
       " Gray{N0f8}(1.0)  Gray{N0f8}(1.0)     Gray{N0f8}(1.0)  Gray{N0f8}(1.0)\n",
       " Gray{N0f8}(1.0)  Gray{N0f8}(1.0)     Gray{N0f8}(1.0)  Gray{N0f8}(1.0)\n",
       " Gray{N0f8}(1.0)  Gray{N0f8}(1.0)  …  Gray{N0f8}(1.0)  Gray{N0f8}(1.0)\n",
       " Gray{N0f8}(1.0)  Gray{N0f8}(1.0)     Gray{N0f8}(1.0)  Gray{N0f8}(1.0)\n",
       " Gray{N0f8}(1.0)  Gray{N0f8}(1.0)     Gray{N0f8}(1.0)  Gray{N0f8}(1.0)\n",
       " Gray{N0f8}(1.0)  Gray{N0f8}(1.0)     Gray{N0f8}(1.0)  Gray{N0f8}(1.0)\n",
       " Gray{N0f8}(1.0)  Gray{N0f8}(1.0)     Gray{N0f8}(1.0)  Gray{N0f8}(1.0)\n",
       " Gray{N0f8}(1.0)  Gray{N0f8}(1.0)  …  Gray{N0f8}(1.0)  Gray{N0f8}(1.0)\n",
       " Gray{N0f8}(1.0)  Gray{N0f8}(1.0)     Gray{N0f8}(1.0)  Gray{N0f8}(1.0)"
      ]
     },
     "metadata": {},
     "output_type": "display_data"
    }
   ],
   "source": [
    "THRESH = 0.5;\n",
    "NUM = rand(1:6)\n",
    "\n",
    "bin = binarize(copy(dice[NUM]), THRESH);\n",
    "\n",
    "n = countBlobs(bin)\n",
    "\n",
    "println(\"Izabrana kockica:    \", NUM, \"\\nDetektovana kockica: \", n);\n",
    "dice[NUM]"
   ]
  },
  {
   "attachments": {},
   "cell_type": "markdown",
   "metadata": {},
   "source": [
    "# Resenje 2\n",
    "\n",
    "## Konvolucija\n",
    "\n",
    "Konvolucija slike je operacija pri kojoj se nad svakim pikselom izvrši određena obrada. Preko slike se prelazi kernelom (mala matrica brojeva) pri čemu svaki piksel $(i, j)$ dobija novu vrednost koja se određuje zbirom proizvoda vrednosti kernela i odgovarajućih piksela ispod njega.\n",
    "\n",
    "![slika konvolucije](https://929687.smushcdn.com/2633864/wp-content/uploads/2016/06/convolutions_kernel_sliding.jpg?lossy=1&strip=1&webp=1)\n",
    "\n",
    "<small>slika preuzeta sa [linka](https://pyimagesearch.com/2016/07/25/convolutions-with-opencv-and-python/)</small>\n",
    "\n"
   ]
  },
  {
   "attachments": {},
   "cell_type": "markdown",
   "metadata": {},
   "source": [
    "## Pretprocesiranje\n",
    "\n",
    "Kao prvi korak se vrsi pretprocesiranje slike kako bi sledeci algoritmi bili efikasniji. \n",
    "\n",
    "### Zamućenje slike (Blur)\n",
    "\n",
    "Slika se zamućuje što ima efekat uklanjanja nepotrebnih detalja i šuma.\n",
    "\n",
    "Zamućenje se postiže konvolucijom slike Gausovim kernelom, sto je kvadratna matrica čije su vrednosti generisane gausovom raspodelom centriranom u sredini matrice."
   ]
  },
  {
   "cell_type": "code",
   "execution_count": 8,
   "metadata": {},
   "outputs": [
    {
     "data": {
      "image/png": "[encoded data removed]",
      "text/plain": [
       "13×13 Array{Gray{Float64},2} with eltype Gray{Float64}:\n",
       " Gray{Float64}(0.0183156)  …  Gray{Float64}(0.0183156)\n",
       " Gray{Float64}(0.0337462)     Gray{Float64}(0.0337462)\n",
       " Gray{Float64}(0.055638)      Gray{Float64}(0.055638)\n",
       " Gray{Float64}(0.082085)      Gray{Float64}(0.082085)\n",
       " Gray{Float64}(0.108368)      Gray{Float64}(0.108368)\n",
       " Gray{Float64}(0.128022)   …  Gray{Float64}(0.128022)\n",
       " Gray{Float64}(0.135335)      Gray{Float64}(0.135335)\n",
       " Gray{Float64}(0.128022)      Gray{Float64}(0.128022)\n",
       " Gray{Float64}(0.108368)      Gray{Float64}(0.108368)\n",
       " Gray{Float64}(0.082085)      Gray{Float64}(0.082085)\n",
       " Gray{Float64}(0.055638)   …  Gray{Float64}(0.055638)\n",
       " Gray{Float64}(0.0337462)     Gray{Float64}(0.0337462)\n",
       " Gray{Float64}(0.0183156)     Gray{Float64}(0.0183156)"
      ]
     },
     "metadata": {},
     "output_type": "display_data"
    }
   ],
   "source": [
    "gaus = collect(Kernel.gaussian(3))\n",
    "Gray.(gaus/maximum(gaus))"
   ]
  },
  {
   "cell_type": "code",
   "execution_count": 9,
   "metadata": {},
   "outputs": [
    {
     "data": {
      "image/png": "[encoded data removed]",
      "text/plain": [
       "207×408 Array{Gray{Float64},2} with eltype Gray{Float64}:\n",
       " Gray{Float64}(1.0)  Gray{Float64}(1.0)  …  Gray{Float64}(1.0)\n",
       " Gray{Float64}(1.0)  Gray{Float64}(1.0)     Gray{Float64}(1.0)\n",
       " Gray{Float64}(1.0)  Gray{Float64}(1.0)     Gray{Float64}(1.0)\n",
       " Gray{Float64}(1.0)  Gray{Float64}(1.0)     Gray{Float64}(1.0)\n",
       " Gray{Float64}(1.0)  Gray{Float64}(1.0)     Gray{Float64}(1.0)\n",
       " Gray{Float64}(1.0)  Gray{Float64}(1.0)  …  Gray{Float64}(1.0)\n",
       " Gray{Float64}(1.0)  Gray{Float64}(1.0)     Gray{Float64}(1.0)\n",
       " Gray{Float64}(1.0)  Gray{Float64}(1.0)     Gray{Float64}(1.0)\n",
       " Gray{Float64}(1.0)  Gray{Float64}(1.0)     Gray{Float64}(1.0)\n",
       " Gray{Float64}(1.0)  Gray{Float64}(1.0)     Gray{Float64}(1.0)\n",
       " ⋮                                       ⋱  \n",
       " Gray{Float64}(1.0)  Gray{Float64}(1.0)     Gray{Float64}(1.0)\n",
       " Gray{Float64}(1.0)  Gray{Float64}(1.0)     Gray{Float64}(1.0)\n",
       " Gray{Float64}(1.0)  Gray{Float64}(1.0)  …  Gray{Float64}(1.0)\n",
       " Gray{Float64}(1.0)  Gray{Float64}(1.0)     Gray{Float64}(1.0)\n",
       " Gray{Float64}(1.0)  Gray{Float64}(1.0)     Gray{Float64}(1.0)\n",
       " Gray{Float64}(1.0)  Gray{Float64}(1.0)     Gray{Float64}(1.0)\n",
       " Gray{Float64}(1.0)  Gray{Float64}(1.0)     Gray{Float64}(1.0)\n",
       " Gray{Float64}(1.0)  Gray{Float64}(1.0)  …  Gray{Float64}(1.0)\n",
       " Gray{Float64}(1.0)  Gray{Float64}(1.0)     Gray{Float64}(1.0)"
      ]
     },
     "metadata": {},
     "output_type": "display_data"
    }
   ],
   "source": [
    "using ImageFiltering\n",
    "[dice[3] imfilter(dice[3], Kernel.gaussian(3))]\n"
   ]
  },
  {
   "attachments": {},
   "cell_type": "markdown",
   "metadata": {},
   "source": [
    "### Detekcija ivica\n",
    "\n",
    "Sledeći korak pretprocesiranja jeste detekcija ivica. Ovo se postiže Canny detektorom ivica koji je kompleksan algoritam iz vise faza.\n",
    "\n",
    "Rezultat je binarna slika gde vrednost 1 predstavlja postojanje ivice na tom mestu. Na rezultujućoj slici su ivice najčešće debljine 1 piksel. \n",
    "\n",
    "Parametri detektora su _donja_ i _gornja_ granica za to koje će se ivice pojaviti u rezultujućoj slici. Granice se postavljaju na 99% jer se u ovom primeru traže samo najjače ivice koje pripadaju krugovima. \n",
    "\n",
    "Treći, opcioni, parametar je $\\sigma$ vrednost koja određuje standardnu devijaciju gausovog filtra koji se koristi za zamućenje slike u prvoj fazi algoritma.\n"
   ]
  },
  {
   "cell_type": "code",
   "execution_count": 10,
   "metadata": {},
   "outputs": [
    {
     "data": {
      "image/png": "[encoded data removed]",
      "text/plain": [
       "207×408 Array{Gray{N0f8},2} with eltype Gray{N0f8}:\n",
       " Gray{N0f8}(1.0)  Gray{N0f8}(1.0)  …  Gray{N0f8}(0.0)  Gray{N0f8}(0.0)\n",
       " Gray{N0f8}(1.0)  Gray{N0f8}(1.0)     Gray{N0f8}(0.0)  Gray{N0f8}(0.0)\n",
       " Gray{N0f8}(1.0)  Gray{N0f8}(1.0)     Gray{N0f8}(0.0)  Gray{N0f8}(0.0)\n",
       " Gray{N0f8}(1.0)  Gray{N0f8}(1.0)     Gray{N0f8}(0.0)  Gray{N0f8}(0.0)\n",
       " Gray{N0f8}(1.0)  Gray{N0f8}(1.0)     Gray{N0f8}(0.0)  Gray{N0f8}(0.0)\n",
       " Gray{N0f8}(1.0)  Gray{N0f8}(1.0)  …  Gray{N0f8}(0.0)  Gray{N0f8}(0.0)\n",
       " Gray{N0f8}(1.0)  Gray{N0f8}(1.0)     Gray{N0f8}(0.0)  Gray{N0f8}(0.0)\n",
       " Gray{N0f8}(1.0)  Gray{N0f8}(1.0)     Gray{N0f8}(0.0)  Gray{N0f8}(0.0)\n",
       " Gray{N0f8}(1.0)  Gray{N0f8}(1.0)     Gray{N0f8}(0.0)  Gray{N0f8}(0.0)\n",
       " Gray{N0f8}(1.0)  Gray{N0f8}(1.0)     Gray{N0f8}(0.0)  Gray{N0f8}(0.0)\n",
       " ⋮                                 ⋱                   \n",
       " Gray{N0f8}(1.0)  Gray{N0f8}(1.0)     Gray{N0f8}(0.0)  Gray{N0f8}(0.0)\n",
       " Gray{N0f8}(1.0)  Gray{N0f8}(1.0)     Gray{N0f8}(0.0)  Gray{N0f8}(0.0)\n",
       " Gray{N0f8}(1.0)  Gray{N0f8}(1.0)  …  Gray{N0f8}(0.0)  Gray{N0f8}(0.0)\n",
       " Gray{N0f8}(1.0)  Gray{N0f8}(1.0)     Gray{N0f8}(0.0)  Gray{N0f8}(0.0)\n",
       " Gray{N0f8}(1.0)  Gray{N0f8}(1.0)     Gray{N0f8}(0.0)  Gray{N0f8}(0.0)\n",
       " Gray{N0f8}(1.0)  Gray{N0f8}(1.0)     Gray{N0f8}(0.0)  Gray{N0f8}(0.0)\n",
       " Gray{N0f8}(1.0)  Gray{N0f8}(1.0)     Gray{N0f8}(0.0)  Gray{N0f8}(0.0)\n",
       " Gray{N0f8}(1.0)  Gray{N0f8}(1.0)  …  Gray{N0f8}(0.0)  Gray{N0f8}(0.0)\n",
       " Gray{N0f8}(1.0)  Gray{N0f8}(1.0)     Gray{N0f8}(0.0)  Gray{N0f8}(0.0)"
      ]
     },
     "metadata": {},
     "output_type": "display_data"
    }
   ],
   "source": [
    "img = copy(dice[3])\n",
    "[img Gray.(canny(img, (Percentile(99), Percentile(99)), 3))]"
   ]
  },
  {
   "attachments": {},
   "cell_type": "markdown",
   "metadata": {},
   "source": [
    "### Gradijenti slike\n",
    "\n",
    "Sledeće je potrebno odrediti gradijente slike. Ovo se postiže konvolucijom sobel kernelima.\n",
    "\n",
    "Postoji dva Sobel kernela, jedan za x pravac, drugi za y pravac.\n",
    "\n",
    "$$\n",
    "\\begin{bmatrix}\n",
    "-0.125 & -0.25 & -0.125 \\\\\n",
    "0.0 & 0.0  &  0.0 \\\\\n",
    "0.125 & 0.25 &  0.125\n",
    "\\end{bmatrix},\\;\\;\n",
    "\\begin{bmatrix}\n",
    "-0.125 & 0.0 & 0.125 \\\\\n",
    "-0.25 & 0.0 & 0.25 \\\\ \n",
    "-0.125 & 0.0 & 0.125\n",
    "\\end{bmatrix}\n",
    "$$"
   ]
  },
  {
   "cell_type": "code",
   "execution_count": 14,
   "metadata": {},
   "outputs": [
    {
     "data": {
      "image/png": "[encoded data removed]",
      "text/plain": [
       "207×408 Array{Gray{Float64},2} with eltype Gray{Float64}:\n",
       " Gray{Float64}(0.0)  Gray{Float64}(0.0)  …  Gray{Float64}(0.0)\n",
       " Gray{Float64}(0.0)  Gray{Float64}(0.0)     Gray{Float64}(0.0)\n",
       " Gray{Float64}(0.0)  Gray{Float64}(0.0)     Gray{Float64}(0.0)\n",
       " Gray{Float64}(0.0)  Gray{Float64}(0.0)     Gray{Float64}(0.0)\n",
       " Gray{Float64}(0.0)  Gray{Float64}(0.0)     Gray{Float64}(0.0)\n",
       " Gray{Float64}(0.0)  Gray{Float64}(0.0)  …  Gray{Float64}(0.0)\n",
       " Gray{Float64}(0.0)  Gray{Float64}(0.0)     Gray{Float64}(0.0)\n",
       " Gray{Float64}(0.0)  Gray{Float64}(0.0)     Gray{Float64}(0.0)\n",
       " Gray{Float64}(0.0)  Gray{Float64}(0.0)     Gray{Float64}(0.0)\n",
       " Gray{Float64}(0.0)  Gray{Float64}(0.0)     Gray{Float64}(0.0)\n",
       " ⋮                                       ⋱  \n",
       " Gray{Float64}(0.0)  Gray{Float64}(0.0)     Gray{Float64}(0.0)\n",
       " Gray{Float64}(0.0)  Gray{Float64}(0.0)     Gray{Float64}(0.0)\n",
       " Gray{Float64}(0.0)  Gray{Float64}(0.0)  …  Gray{Float64}(0.0)\n",
       " Gray{Float64}(0.0)  Gray{Float64}(0.0)     Gray{Float64}(0.0)\n",
       " Gray{Float64}(0.0)  Gray{Float64}(0.0)     Gray{Float64}(0.0)\n",
       " Gray{Float64}(0.0)  Gray{Float64}(0.0)     Gray{Float64}(0.0)\n",
       " Gray{Float64}(0.0)  Gray{Float64}(0.0)     Gray{Float64}(0.0)\n",
       " Gray{Float64}(0.0)  Gray{Float64}(0.0)  …  Gray{Float64}(0.0)\n",
       " Gray{Float64}(0.0)  Gray{Float64}(0.0)     Gray{Float64}(0.0)"
      ]
     },
     "metadata": {},
     "output_type": "display_data"
    }
   ],
   "source": [
    "using ImageFeatures\n",
    "dx = imfilter(img, ImageFeatures.KernelFactors.sobel()[1])\n",
    "dy = imfilter(img, ImageFeatures.KernelFactors.sobel()[2])\n",
    "[dx.*4 dy.*4]   # pomnozeno sa 4 da bi se bolje videlo na slici"
   ]
  },
  {
   "attachments": {},
   "cell_type": "markdown",
   "metadata": {},
   "source": [
    "\n",
    "## Hough transformacija\n",
    "\n",
    "Nakon pretprocesiranja se moze izvršiti Hough transformacija za konačno detektovanje krugova.\n",
    "\n",
    "Hough transformacija je algoritam za prepoznavanje geometrijskih oblika u slici. Algoritam pretvara sliku u prostor parametara. Za prepoznavanje krugova u prostoru parametara svaka tačka predstavlja krug nekog oblika. Svaki krug dobija parametre $(x, y, r)$ - položaj kruga $x$,$y$ i poluprecnik kruga $r$. Tada se koristi algoritam za pretraživanje tačaka u prostoru parametara kako bi se izdvojili traženi krugovi.\n",
    "\n",
    "Kao ulaz funkcija `hough_circle_gradient` prima binarnu sliku ivica dobijenu iz `canny` detektora, fazu gradijenata dobijenih konvolucijom `sobel` kernelima i opseg poluprečnika krugova koje treba detektovati. \n",
    "\n",
    "Funkcija vraca niz centara krugova i niz odgovarajućih poluprečnika."
   ]
  },
  {
   "cell_type": "code",
   "execution_count": 13,
   "metadata": {},
   "outputs": [
    {
     "name": "stdout",
     "output_type": "stream",
     "text": [
      "Izabrana kockica:    2\n",
      "Detektovana kockica: 2"
     ]
    },
    {
     "name": "stdout",
     "output_type": "stream",
     "text": [
      "\n"
     ]
    },
    {
     "data": {
      "image/png": "[encoded data removed]",
      "text/plain": [
       "207×816 Array{Gray{Float64},2} with eltype Gray{Float64}:\n",
       " Gray{Float64}(1.0)  Gray{Float64}(1.0)  …  Gray{Float64}(0.0)\n",
       " Gray{Float64}(1.0)  Gray{Float64}(1.0)     Gray{Float64}(0.0)\n",
       " Gray{Float64}(1.0)  Gray{Float64}(1.0)     Gray{Float64}(0.0)\n",
       " Gray{Float64}(1.0)  Gray{Float64}(1.0)     Gray{Float64}(0.0)\n",
       " Gray{Float64}(1.0)  Gray{Float64}(1.0)     Gray{Float64}(0.0)\n",
       " Gray{Float64}(1.0)  Gray{Float64}(1.0)  …  Gray{Float64}(0.0)\n",
       " Gray{Float64}(1.0)  Gray{Float64}(1.0)     Gray{Float64}(0.0)\n",
       " Gray{Float64}(1.0)  Gray{Float64}(1.0)     Gray{Float64}(0.0)\n",
       " Gray{Float64}(1.0)  Gray{Float64}(1.0)     Gray{Float64}(0.0)\n",
       " Gray{Float64}(1.0)  Gray{Float64}(1.0)     Gray{Float64}(0.0)\n",
       " ⋮                                       ⋱  ⋮\n",
       " Gray{Float64}(1.0)  Gray{Float64}(1.0)     Gray{Float64}(0.0)\n",
       " Gray{Float64}(1.0)  Gray{Float64}(1.0)     Gray{Float64}(0.0)\n",
       " Gray{Float64}(1.0)  Gray{Float64}(1.0)  …  Gray{Float64}(0.0)\n",
       " Gray{Float64}(1.0)  Gray{Float64}(1.0)     Gray{Float64}(0.0)\n",
       " Gray{Float64}(1.0)  Gray{Float64}(1.0)     Gray{Float64}(0.0)\n",
       " Gray{Float64}(1.0)  Gray{Float64}(1.0)     Gray{Float64}(0.0)\n",
       " Gray{Float64}(1.0)  Gray{Float64}(1.0)     Gray{Float64}(0.0)\n",
       " Gray{Float64}(1.0)  Gray{Float64}(1.0)  …  Gray{Float64}(0.0)\n",
       " Gray{Float64}(1.0)  Gray{Float64}(1.0)     Gray{Float64}(0.0)"
      ]
     },
     "metadata": {},
     "output_type": "display_data"
    }
   ],
   "source": [
    "using ImageFeatures, ImageFiltering\n",
    "\n",
    "NUM = rand(1:6)\n",
    "\n",
    "img = copy(dice[NUM])                                       # Biranje slike za procesiranje\n",
    "\n",
    "# ===== Pretprocesiranje =====\n",
    "imgg = imfilter(img, Kernel.gaussian(3))                    # Blur slike\n",
    "img_edges = canny(img, (Percentile(99), Percentile(99)), 4) # Canny detektor ivica\n",
    "dx = imfilter(img, ImageFeatures.KernelFactors.sobel()[1])  # Gradijenti slike - sobel filter\n",
    "dy = imfilter(img, ImageFeatures.KernelFactors.sobel()[2])\n",
    "\n",
    "# ===== Hough transformacija =====\n",
    "img_phase = phase(dx, dy);  # Odredjivanje faze gradijenata sto je potrebno hough funkciji\n",
    "centers, radii = hough_circle_gradient(img_edges, img_phase, 10:11);\n",
    "\n",
    "# Slika za prikazivanje detektovanih krugova\n",
    "img_demo = Float64.(img_edges)      \n",
    "img_demo .= 0.0;\n",
    "for c in centers \n",
    "    img_demo[c] = 1; \n",
    "end\n",
    "\n",
    "# Konacan broj\n",
    "n = length(centers)\n",
    "\n",
    "println(\"Izabrana kockica:    \", NUM, \"\\nDetektovana kockica: \", n);\n",
    "\n",
    "[img imgg Gray.(img_edges) Gray.(img_demo)]"
   ]
  },
  {
   "attachments": {},
   "cell_type": "markdown",
   "metadata": {},
   "source": [
    "# Literatura\n",
    "\n",
    "1. [Working with images, Computational thinking, MIT](https://www.youtube.com/watch?v=DGojI9xcCfg&list=PLP8iPy9hna6Q2Kr16aWPOKE0dz9OnsnIJ)\n",
    "1. [Images dokumentacija](https://juliaimages.org/latest/)\n",
    "1. [ImageFiltering dokumentacija](https://juliaimages.org/latest/function_reference/#ImageFiltering)\n",
    "1. [ImageFeatures dokumentacija](https://juliaimages.org/latest/pkgs/features/)\n"
   ]
  }
 ],
 "metadata": {
  "kernelspec": {
   "display_name": "Julia 1.8.2",
   "language": "julia",
   "name": "julia-1.8"
  },
  "language_info": {
   "file_extension": ".jl",
   "mimetype": "application/julia",
   "name": "julia",
   "version": "1.8.2"
  }
 },
 "nbformat": 4,
 "nbformat_minor": 2
}

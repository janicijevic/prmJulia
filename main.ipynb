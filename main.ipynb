{
 "cells": [
  {
   "cell_type": "markdown",
   "metadata": {},
   "source": [
    "# Julia"
   ]
  },
  {
   "cell_type": "markdown",
   "metadata": {},
   "source": [
    "## O jeziku\n",
    "Julia je nastala 2009. godine kao jezik __visokog nivoa__ (kao Python, Ruby) za resavanje kompleksnih problema pretezno u svetu matematike, __bez zrtvovanja brzine__(brzina slicna C-u). Takodje je __open-source__ besplatan jezik. \n",
    "\n",
    "Zelja je bila da se napravi besplatan otvoreni jezik performansi C-a, pristupacnosti Pythona, matematickih operacija Matlaba, statisticke obrade R-a, da bude interaktivan ali i kompajliran. \n",
    "\n",
    "// Ovde ima mozda redundantnih recenica treba da se sredi i sazme//\n",
    "\n",
    "U poslednjih nekoliko godina je postao izuzetno popularan jezik i danas predstavlja ozbilju konkurenciju jeziku Python zbog slicno lakog koriscenja i jasne sintakse ali znacajno boljih performansi.\n",
    "\n",
    "Julia je jezik opste namene ali se u glavnom koristi za numericko odnosno matematicko programiranje jer je sintaksa ciljana na matematicke operacije, dok se takodje koristi za sistemsko programiranje na niskom nivou, alat za specifikaciju FPGA hardvera, veb programiranje na serverskoj i klijentskoj strani kao i za mnoge druge oblasti."
   ]
  },
  {
   "cell_type": "markdown",
   "metadata": {},
   "source": [
    "## Mogucnosti i Implementacija jezika\n",
    "\n",
    "Multiple dispatch\n",
    "\n",
    "Dinamcki tipovi\n",
    "\n",
    "Paralelno i distribuirano programiranje\n",
    "\n",
    "Unicode\n",
    "\n",
    "Interaktivnost - REPL\n",
    "\n",
    "Koristi LLVM - kompajler i set alata za spajanje bilo kog jezika sa bilo kojom arhitekturom, najpoznatije ga koristi c# - Julia se kompajlira u Intermediate Representation(IR) sto je vrsta assemlera koji se pokrece na LLVM virtuelnoj masini, znaci LLVM se instalira za odredjen kompjuter, na njemu pokreces dat IR kod koji se pretvara u assembler za masinu na kojoj se pokrece, koristi se Just-In-Time (JIT) kompilacija slicno kao java sto omogucava dodatne optimizacije pri izvrsavanju sto priblizava performanse jezicima nizeg nivoa"
   ]
  },
  {
   "cell_type": "markdown",
   "metadata": {},
   "source": [
    "# Instalacija\n",
    "\n",
    "[Anaconda](https://www.anaconda.com/products/distribution/start-coding-immediately)"
   ]
  },
  {
   "cell_type": "markdown",
   "metadata": {},
   "source": [
    "## Tutorijal - Uvod u jezik Julia"
   ]
  },
  {
   "cell_type": "markdown",
   "metadata": {},
   "source": [
    "### Funkcije\n",
    "ovde staviti za simbole, brojevi mnoze bez *, tipizacija\n",
    "\n",
    "### For, While, Map\n",
    "\n",
    "\n",
    "### Nizovi\n",
    "\n",
    "### Matrice\n",
    "#### Operacije .* itd\n",
    "\n",
    "### Recnici - manje bitno\n",
    "\n",
    "### Stringovi - konverzije formatiranje\n",
    "\n",
    "### Paketi\n",
    "#### Plots      - kao matplotlib.pyplot\n",
    "#### DataFrames - kao pandas\n",
    "#### Images\n"
   ]
  },
  {
   "cell_type": "code",
   "execution_count": 9,
   "metadata": {},
   "outputs": [
    {
     "data": {
      "text/plain": [
       "obim (generic function with 2 methods)"
      ]
     },
     "metadata": {},
     "output_type": "display_data"
    }
   ],
   "source": [
    "function obim(r::Int64)\n",
    "    2r*π\n",
    "end"
   ]
  },
  {
   "cell_type": "code",
   "execution_count": 10,
   "metadata": {},
   "outputs": [
    {
     "data": {
      "text/plain": [
       "31.41592653589793"
      ]
     },
     "metadata": {},
     "output_type": "display_data"
    }
   ],
   "source": [
    "obim(5)"
   ]
  },
  {
   "cell_type": "markdown",
   "metadata": {},
   "source": [
    "## Primeri"
   ]
  },
  {
   "cell_type": "markdown",
   "metadata": {},
   "source": [
    "### Nesto sa Linearnom algebrom"
   ]
  },
  {
   "cell_type": "markdown",
   "metadata": {},
   "source": [
    "### Manipulacija slika"
   ]
  },
  {
   "cell_type": "markdown",
   "metadata": {},
   "source": [
    "### Kockice\n"
   ]
  },
  {
   "cell_type": "markdown",
   "metadata": {},
   "source": []
  }
 ],
 "metadata": {
  "kernelspec": {
   "display_name": "Julia 1.8.2",
   "language": "julia",
   "name": "julia-1.8"
  },
  "language_info": {
   "file_extension": ".jl",
   "mimetype": "application/julia",
   "name": "julia",
   "version": "1.8.2"
  },
  "orig_nbformat": 4,
  "vscode": {
   "interpreter": {
    "hash": "9e74333bb177a817cc89c68583f3a4768f11206365f614e191f8025914eaa68d"
   }
  }
 },
 "nbformat": 4,
 "nbformat_minor": 2
}
